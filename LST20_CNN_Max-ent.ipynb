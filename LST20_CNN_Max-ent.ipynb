{
  "cells": [
    {
      "cell_type": "code",
      "execution_count": null,
      "metadata": {
        "colab": {
          "background_save": true,
          "base_uri": "https://localhost:8080/"
        },
        "id": "x6jmXF6keRWI",
        "outputId": "dae55a0f-6178-47fd-c218-3c60adc791be"
      },
      "outputs": [
        {
          "name": "stdout",
          "output_type": "stream",
          "text": [
            "Downloading...\n",
            "From: https://drive.google.com/uc?id=1mTfs7CvOba-kbnW1g3RPplEPNRrJR2Vy\n",
            "To: /content/LST_dev.txt\n",
            "100% 2.96M/2.96M [00:00<00:00, 185MB/s]\n",
            "Downloading...\n",
            "From: https://drive.google.com/uc?id=1hiY6w0k0nzN0gLuhDJbrVWEPhYNeE-kq\n",
            "To: /content/LST_train.txt\n",
            "100% 32.4M/32.4M [00:00<00:00, 76.2MB/s]\n",
            "Downloading...\n",
            "From: https://drive.google.com/uc?id=17tDZEoW7NUikFid-pf5HLap3c_59BOrH\n",
            "To: /content/LST_test.txt\n",
            "100% 2.45M/2.45M [00:00<00:00, 106MB/s]\n"
          ]
        }
      ],
      "source": [
        "!gdown 1mTfs7CvOba-kbnW1g3RPplEPNRrJR2Vy\n",
        "!gdown 1hiY6w0k0nzN0gLuhDJbrVWEPhYNeE-kq\n",
        "!gdown 17tDZEoW7NUikFid-pf5HLap3c_59BOrH"
      ],
      "id": "x6jmXF6keRWI"
    },
    {
      "cell_type": "code",
      "execution_count": null,
      "metadata": {
        "colab": {
          "background_save": true,
          "base_uri": "https://localhost:8080/"
        },
        "id": "47149511-186b-4cd1-b484-a1a1d03f46aa",
        "outputId": "acb746a9-25ba-480b-9096-0038b89b709b"
      },
      "outputs": [
        {
          "name": "stdout",
          "output_type": "stream",
          "text": [
            "/usr/local/lib/python3.7/dist-packages/gdown/cli.py:131: FutureWarning: Option `--id` was deprecated in version 4.3.1 and will be removed in 5.0. You don't need to pass it anymore to use a file ID.\n",
            "  category=FutureWarning,\n",
            "Downloading...\n",
            "From: https://drive.google.com/uc?id=14k1PLN9MVszCK6zUIRcLzWLwEGdR0ABw\n",
            "To: /content/TNC_embeddings-200.bin\n",
            "100% 50.6M/50.6M [00:00<00:00, 214MB/s]\n"
          ]
        }
      ],
      "source": [
        "# 200-unit embeddings\n",
        "!gdown --id 14k1PLN9MVszCK6zUIRcLzWLwEGdR0ABw"
      ],
      "id": "47149511-186b-4cd1-b484-a1a1d03f46aa"
    },
    {
      "cell_type": "code",
      "execution_count": null,
      "metadata": {
        "colab": {
          "background_save": true
        },
        "id": "d5e1fd1c-f9a0-4b2c-8015-17c473dbc783"
      },
      "outputs": [],
      "source": [
        "import numpy as np\n",
        "import pandas as pd\n",
        "from numpy.linalg import norm\n",
        "from sklearn.metrics import classification_report, confusion_matrix\n",
        "from IPython.display import Image, display_png\n",
        "from gensim.models import word2vec, KeyedVectors\n",
        "from keras.models import Sequential\n",
        "from keras.layers import (Input, Embedding, Dense, Dropout, Flatten, GlobalAveragePooling1D, Conv1D, GlobalMaxPooling1D)\n",
        "from tensorflow.keras.utils import to_categorical\n",
        "from keras.preprocessing.sequence import pad_sequences\n",
        "from tensorflow import keras\n",
        "from tensorflow.keras import layers"
      ],
      "id": "d5e1fd1c-f9a0-4b2c-8015-17c473dbc783"
    },
    {
      "cell_type": "markdown",
      "metadata": {
        "id": "rg0R3ZLhjYYM"
      },
      "source": [
        "# Load the word embeddings and the data"
      ],
      "id": "rg0R3ZLhjYYM"
    },
    {
      "cell_type": "code",
      "execution_count": null,
      "metadata": {
        "colab": {
          "background_save": true,
          "base_uri": "https://localhost:8080/"
        },
        "id": "6-MHSU0aatjK",
        "outputId": "781b1ae4-1b8c-436f-8d60-0ef2400bccf4"
      },
      "outputs": [
        {
          "name": "stdout",
          "output_type": "stream",
          "text": [
            "Looking in indexes: https://pypi.org/simple, https://us-python.pkg.dev/colab-wheels/public/simple/\n",
            "Collecting pythainlp\n",
            "  Downloading pythainlp-3.0.8-py3-none-any.whl (11.5 MB)\n",
            "\u001b[K     |████████████████████████████████| 11.5 MB 4.6 MB/s \n",
            "\u001b[?25hRequirement already satisfied: requests>=2.22.0 in /usr/local/lib/python3.7/dist-packages (from pythainlp) (2.23.0)\n",
            "Collecting tinydb>=3.0\n",
            "  Downloading tinydb-4.7.0-py3-none-any.whl (24 kB)\n",
            "Requirement already satisfied: urllib3!=1.25.0,!=1.25.1,<1.26,>=1.21.1 in /usr/local/lib/python3.7/dist-packages (from requests>=2.22.0->pythainlp) (1.24.3)\n",
            "Requirement already satisfied: certifi>=2017.4.17 in /usr/local/lib/python3.7/dist-packages (from requests>=2.22.0->pythainlp) (2022.6.15)\n",
            "Requirement already satisfied: idna<3,>=2.5 in /usr/local/lib/python3.7/dist-packages (from requests>=2.22.0->pythainlp) (2.10)\n",
            "Requirement already satisfied: chardet<4,>=3.0.2 in /usr/local/lib/python3.7/dist-packages (from requests>=2.22.0->pythainlp) (3.0.4)\n",
            "Requirement already satisfied: typing-extensions<5.0.0,>=3.10.0 in /usr/local/lib/python3.7/dist-packages (from tinydb>=3.0->pythainlp) (4.1.1)\n",
            "Installing collected packages: tinydb, pythainlp\n",
            "Successfully installed pythainlp-3.0.8 tinydb-4.7.0\n"
          ]
        }
      ],
      "source": [
        "!pip install pythainlp\n",
        "from pythainlp.tokenize import word_tokenize"
      ],
      "id": "6-MHSU0aatjK"
    },
    {
      "cell_type": "code",
      "execution_count": null,
      "metadata": {
        "colab": {
          "background_save": true
        },
        "id": "KSmHznCHeL1i"
      },
      "outputs": [],
      "source": [
        "train = pd.read_csv('LST_train.txt', encoding='utf-8',sep='\\t')\n",
        "dev = pd.read_csv('LST_dev.txt', encoding='utf-8', sep='\\t')\n",
        "test = pd.read_csv('LST_test.txt', encoding='utf-8', sep='\\t')\n",
        "def convert_df(df):\n",
        "    df['text'] = df['tokens'].apply(lambda x: x.replace('|', ''))\n",
        "    df['text'] = df['text'].apply(lambda x: x.replace('_', ' '))\n",
        "    df['token'] = df['text'].apply(lambda x: word_tokenize(x))\n",
        "    df = df.drop(columns=['tokens', 'num', 'Unnamed: 0', 'text'])\n",
        "    df = df.rename({'lable' : 'category'}, axis = 'columns')\n",
        "    return df\n"
      ],
      "id": "KSmHznCHeL1i"
    },
    {
      "cell_type": "code",
      "execution_count": null,
      "metadata": {
        "colab": {
          "background_save": true
        },
        "id": "hpcsLUzffJnG"
      },
      "outputs": [],
      "source": [
        "train = convert_df(train)\n",
        "dev = convert_df(dev)\n",
        "test = convert_df(test)"
      ],
      "id": "hpcsLUzffJnG"
    },
    {
      "cell_type": "code",
      "execution_count": null,
      "metadata": {
        "colab": {
          "background_save": true,
          "base_uri": "https://localhost:8080/",
          "height": 419
        },
        "id": "05zIqjJpb-y8",
        "outputId": "fc0426b6-739f-462f-d1a5-ff52e7af43f0"
      },
      "outputs": [
        {
          "data": {
            "text/html": [
              "\n",
              "  <div id=\"df-944ca770-aa43-4cde-93bf-7fd138ca6939\">\n",
              "    <div class=\"colab-df-container\">\n",
              "      <div>\n",
              "<style scoped>\n",
              "    .dataframe tbody tr th:only-of-type {\n",
              "        vertical-align: middle;\n",
              "    }\n",
              "\n",
              "    .dataframe tbody tr th {\n",
              "        vertical-align: top;\n",
              "    }\n",
              "\n",
              "    .dataframe thead th {\n",
              "        text-align: right;\n",
              "    }\n",
              "</style>\n",
              "<table border=\"1\" class=\"dataframe\">\n",
              "  <thead>\n",
              "    <tr style=\"text-align: right;\">\n",
              "      <th></th>\n",
              "      <th>category</th>\n",
              "      <th>token</th>\n",
              "    </tr>\n",
              "  </thead>\n",
              "  <tbody>\n",
              "    <tr>\n",
              "      <th>0</th>\n",
              "      <td>politics</td>\n",
              "      <td>[สุรยุทธ์, ยัน, ปฏิเสธ, ลงนาม,  , MOU,  , กับ,...</td>\n",
              "    </tr>\n",
              "    <tr>\n",
              "      <th>1</th>\n",
              "      <td>C&amp;A</td>\n",
              "      <td>[บุก, ยึด, ไม้, เถื่อน, อดีต, ส.ส., บุรีรัมย์,...</td>\n",
              "    </tr>\n",
              "    <tr>\n",
              "      <th>2</th>\n",
              "      <td>C&amp;A</td>\n",
              "      <td>[ผกก., แจง, \", สุ, ไฮ, มี, \", ที่, ถูก, วิสามั...</td>\n",
              "    </tr>\n",
              "    <tr>\n",
              "      <th>3</th>\n",
              "      <td>general</td>\n",
              "      <td>[เฒ่า, วัย,  , 72,  , ร้อง, ถูก, รัฐ, ยึด, ที่...</td>\n",
              "    </tr>\n",
              "    <tr>\n",
              "      <th>4</th>\n",
              "      <td>C&amp;A</td>\n",
              "      <td>[เมีย, สาวใหญ่, สุด, แค้น, ผัว, นอกใจ, มอมเหล้...</td>\n",
              "    </tr>\n",
              "    <tr>\n",
              "      <th>...</th>\n",
              "      <td>...</td>\n",
              "      <td>...</td>\n",
              "    </tr>\n",
              "    <tr>\n",
              "      <th>3789</th>\n",
              "      <td>politics</td>\n",
              "      <td>[\", เพื่อ, ไทย, \", ชำแหละ,  , 6,  , เดือน, รัฐ...</td>\n",
              "    </tr>\n",
              "    <tr>\n",
              "      <th>3790</th>\n",
              "      <td>politics</td>\n",
              "      <td>[พันธมิตร, เล็ง, แจ้ง, จับกลุ่ม, เสื้อ, แดง,  ...</td>\n",
              "    </tr>\n",
              "    <tr>\n",
              "      <th>3791</th>\n",
              "      <td>politics</td>\n",
              "      <td>[ส.ว., ผ่าน, ความ, เห็นชอบ, พ.ร.ก., กู้,  , 4,...</td>\n",
              "    </tr>\n",
              "    <tr>\n",
              "      <th>3792</th>\n",
              "      <td>politics</td>\n",
              "      <td>[นายกฯ, บี้, ผบ., ตร., ลา, ลง, ใต้, ต่อ, นายกฯ...</td>\n",
              "    </tr>\n",
              "    <tr>\n",
              "      <th>3793</th>\n",
              "      <td>politics</td>\n",
              "      <td>[', ฎีกา, เสื้อ, แดง, ', อาจ, แห้ว, เหตุ, ขัด,...</td>\n",
              "    </tr>\n",
              "  </tbody>\n",
              "</table>\n",
              "<p>3794 rows × 2 columns</p>\n",
              "</div>\n",
              "      <button class=\"colab-df-convert\" onclick=\"convertToInteractive('df-944ca770-aa43-4cde-93bf-7fd138ca6939')\"\n",
              "              title=\"Convert this dataframe to an interactive table.\"\n",
              "              style=\"display:none;\">\n",
              "        \n",
              "  <svg xmlns=\"http://www.w3.org/2000/svg\" height=\"24px\"viewBox=\"0 0 24 24\"\n",
              "       width=\"24px\">\n",
              "    <path d=\"M0 0h24v24H0V0z\" fill=\"none\"/>\n",
              "    <path d=\"M18.56 5.44l.94 2.06.94-2.06 2.06-.94-2.06-.94-.94-2.06-.94 2.06-2.06.94zm-11 1L8.5 8.5l.94-2.06 2.06-.94-2.06-.94L8.5 2.5l-.94 2.06-2.06.94zm10 10l.94 2.06.94-2.06 2.06-.94-2.06-.94-.94-2.06-.94 2.06-2.06.94z\"/><path d=\"M17.41 7.96l-1.37-1.37c-.4-.4-.92-.59-1.43-.59-.52 0-1.04.2-1.43.59L10.3 9.45l-7.72 7.72c-.78.78-.78 2.05 0 2.83L4 21.41c.39.39.9.59 1.41.59.51 0 1.02-.2 1.41-.59l7.78-7.78 2.81-2.81c.8-.78.8-2.07 0-2.86zM5.41 20L4 18.59l7.72-7.72 1.47 1.35L5.41 20z\"/>\n",
              "  </svg>\n",
              "      </button>\n",
              "      \n",
              "  <style>\n",
              "    .colab-df-container {\n",
              "      display:flex;\n",
              "      flex-wrap:wrap;\n",
              "      gap: 12px;\n",
              "    }\n",
              "\n",
              "    .colab-df-convert {\n",
              "      background-color: #E8F0FE;\n",
              "      border: none;\n",
              "      border-radius: 50%;\n",
              "      cursor: pointer;\n",
              "      display: none;\n",
              "      fill: #1967D2;\n",
              "      height: 32px;\n",
              "      padding: 0 0 0 0;\n",
              "      width: 32px;\n",
              "    }\n",
              "\n",
              "    .colab-df-convert:hover {\n",
              "      background-color: #E2EBFA;\n",
              "      box-shadow: 0px 1px 2px rgba(60, 64, 67, 0.3), 0px 1px 3px 1px rgba(60, 64, 67, 0.15);\n",
              "      fill: #174EA6;\n",
              "    }\n",
              "\n",
              "    [theme=dark] .colab-df-convert {\n",
              "      background-color: #3B4455;\n",
              "      fill: #D2E3FC;\n",
              "    }\n",
              "\n",
              "    [theme=dark] .colab-df-convert:hover {\n",
              "      background-color: #434B5C;\n",
              "      box-shadow: 0px 1px 3px 1px rgba(0, 0, 0, 0.15);\n",
              "      filter: drop-shadow(0px 1px 2px rgba(0, 0, 0, 0.3));\n",
              "      fill: #FFFFFF;\n",
              "    }\n",
              "  </style>\n",
              "\n",
              "      <script>\n",
              "        const buttonEl =\n",
              "          document.querySelector('#df-944ca770-aa43-4cde-93bf-7fd138ca6939 button.colab-df-convert');\n",
              "        buttonEl.style.display =\n",
              "          google.colab.kernel.accessAllowed ? 'block' : 'none';\n",
              "\n",
              "        async function convertToInteractive(key) {\n",
              "          const element = document.querySelector('#df-944ca770-aa43-4cde-93bf-7fd138ca6939');\n",
              "          const dataTable =\n",
              "            await google.colab.kernel.invokeFunction('convertToInteractive',\n",
              "                                                     [key], {});\n",
              "          if (!dataTable) return;\n",
              "\n",
              "          const docLinkHtml = 'Like what you see? Visit the ' +\n",
              "            '<a target=\"_blank\" href=https://colab.research.google.com/notebooks/data_table.ipynb>data table notebook</a>'\n",
              "            + ' to learn more about interactive tables.';\n",
              "          element.innerHTML = '';\n",
              "          dataTable['output_type'] = 'display_data';\n",
              "          await google.colab.output.renderOutput(dataTable, element);\n",
              "          const docLink = document.createElement('div');\n",
              "          docLink.innerHTML = docLinkHtml;\n",
              "          element.appendChild(docLink);\n",
              "        }\n",
              "      </script>\n",
              "    </div>\n",
              "  </div>\n",
              "  "
            ],
            "text/plain": [
              "      category                                              token\n",
              "0     politics  [สุรยุทธ์, ยัน, ปฏิเสธ, ลงนาม,  , MOU,  , กับ,...\n",
              "1          C&A  [บุก, ยึด, ไม้, เถื่อน, อดีต, ส.ส., บุรีรัมย์,...\n",
              "2          C&A  [ผกก., แจง, \", สุ, ไฮ, มี, \", ที่, ถูก, วิสามั...\n",
              "3      general  [เฒ่า, วัย,  , 72,  , ร้อง, ถูก, รัฐ, ยึด, ที่...\n",
              "4          C&A  [เมีย, สาวใหญ่, สุด, แค้น, ผัว, นอกใจ, มอมเหล้...\n",
              "...        ...                                                ...\n",
              "3789  politics  [\", เพื่อ, ไทย, \", ชำแหละ,  , 6,  , เดือน, รัฐ...\n",
              "3790  politics  [พันธมิตร, เล็ง, แจ้ง, จับกลุ่ม, เสื้อ, แดง,  ...\n",
              "3791  politics  [ส.ว., ผ่าน, ความ, เห็นชอบ, พ.ร.ก., กู้,  , 4,...\n",
              "3792  politics  [นายกฯ, บี้, ผบ., ตร., ลา, ลง, ใต้, ต่อ, นายกฯ...\n",
              "3793  politics  [', ฎีกา, เสื้อ, แดง, ', อาจ, แห้ว, เหตุ, ขัด,...\n",
              "\n",
              "[3794 rows x 2 columns]"
            ]
          },
          "execution_count": 7,
          "metadata": {},
          "output_type": "execute_result"
        }
      ],
      "source": [
        "train"
      ],
      "id": "05zIqjJpb-y8"
    },
    {
      "cell_type": "code",
      "execution_count": null,
      "metadata": {
        "colab": {
          "background_save": true,
          "base_uri": "https://localhost:8080/"
        },
        "id": "Pai0EEA4ffzL",
        "outputId": "48497108-66a1-40e9-8f68-fc8676f921d5"
      },
      "outputs": [
        {
          "data": {
            "text/plain": [
              "array(['politics', 'C&A', 'general', 'economics', 'culture', 'STE',\n",
              "       'international', 'environment', 'weather', 'health', 'disaster',\n",
              "       'entertainment', 'development', 'sports', 'royal'], dtype=object)"
            ]
          },
          "execution_count": 8,
          "metadata": {},
          "output_type": "execute_result"
        }
      ],
      "source": [
        "train['category'].unique()"
      ],
      "id": "Pai0EEA4ffzL"
    },
    {
      "cell_type": "markdown",
      "source": [
        "# CNN"
      ],
      "metadata": {
        "id": "nKZWvpKni1hG"
      },
      "id": "nKZWvpKni1hG"
    },
    {
      "cell_type": "code",
      "execution_count": null,
      "metadata": {
        "colab": {
          "background_save": true,
          "base_uri": "https://localhost:8080/"
        },
        "id": "29b8a874-b9ae-40b3-be7a-5966be797dc1",
        "outputId": "2931f048-20d5-4bbf-c73a-f4dda2ef4632"
      },
      "outputs": [
        {
          "name": "stderr",
          "output_type": "stream",
          "text": [
            "WARNING:gensim.models.utils_any2vec:duplicate word 'พระบาทสมเด็จพระพุทธยอดฟ้าจุฬาโลก' in TNC_embeddings-200.bin, ignoring all but first\n"
          ]
        }
      ],
      "source": [
        "w2v_model = KeyedVectors.load_word2vec_format('TNC_embeddings-200.bin', \n",
        "                                              binary=True, unicode_errors='ignore')\n",
        "vocab_size = len(w2v_model.vocab)\n",
        "vector_dim = w2v_model.vector_size\n",
        "# make weight matrix of word embedding, vocab size + 1 (for padding)\n",
        "embedding_matrix = np.zeros((vocab_size+1, vector_dim), dtype=\"float32\")\n",
        "embedding_matrix[0] = np.zeros(vector_dim)\n",
        "\n",
        "word_to_index = {word:i+1 for i, word in enumerate(w2v_model.vocab)}\n",
        "# word to index dictionary, 0 for padding, UNKNOWN\n",
        "word_to_index['PADDING'] = 0 \n",
        "\n",
        "for i, word in enumerate(w2v_model.vocab):\n",
        "    embedding_matrix[i+1] = w2v_model[word] \n",
        "    \n",
        "# load data\n",
        "def convert_words(df, word_to_index, max_length):\n",
        "    tokens = df['token']\n",
        "    list_of_list_of_indices = list(tokens.map(lambda x: [word_to_index.get(word, 0) for word in x]))\n",
        "    return pad_sequences(list_of_list_of_indices, max_length, padding='post', value=0, truncating='post')\n",
        "\n",
        "# max length (กำหนดเอง)\n",
        "max_len = 500\n",
        "train_x = convert_words(train, word_to_index, max_len)\n",
        "dev_x = convert_words(dev, word_to_index, max_len)\n",
        "test_x = convert_words(test, word_to_index, max_len)\n",
        "num_classes = 3\n",
        "\n",
        "def get_label(df):\n",
        "    star_to_label = {'politics': 0, 'C&A': 1, 'general': 2, 'economics': 3, 'culture': 4, 'STE': 5,\n",
        "       'international': 6, 'environment': 7, 'weather': 8, 'health': 9 , 'disaster': 10,\n",
        "       'entertainment': 11 , 'development': 12 , 'sports': 13 , 'royal': 14}\n",
        "    # apply functions & convert to np.array\n",
        "    label = np.array(df['category'].replace(star_to_label).tolist())\n",
        "    df['label'] = label\n",
        "    return to_categorical(label, num_classes=15)\n",
        "\n",
        "# label : one-hot vector\n",
        "train_y = get_label(train)\n",
        "dev_y = get_label(dev)\n",
        "test_y = get_label(test)"
      ],
      "id": "29b8a874-b9ae-40b3-be7a-5966be797dc1"
    },
    {
      "cell_type": "code",
      "execution_count": null,
      "metadata": {
        "colab": {
          "background_save": true,
          "base_uri": "https://localhost:8080/",
          "height": 419
        },
        "id": "NbgEgEQ5f0At",
        "outputId": "b0f4dd2b-5932-4ba9-c403-0eaecfbafe7a"
      },
      "outputs": [
        {
          "data": {
            "text/html": [
              "\n",
              "  <div id=\"df-bb60b953-b8cf-447e-9340-55e84bd519e7\">\n",
              "    <div class=\"colab-df-container\">\n",
              "      <div>\n",
              "<style scoped>\n",
              "    .dataframe tbody tr th:only-of-type {\n",
              "        vertical-align: middle;\n",
              "    }\n",
              "\n",
              "    .dataframe tbody tr th {\n",
              "        vertical-align: top;\n",
              "    }\n",
              "\n",
              "    .dataframe thead th {\n",
              "        text-align: right;\n",
              "    }\n",
              "</style>\n",
              "<table border=\"1\" class=\"dataframe\">\n",
              "  <thead>\n",
              "    <tr style=\"text-align: right;\">\n",
              "      <th></th>\n",
              "      <th>category</th>\n",
              "      <th>token</th>\n",
              "      <th>label</th>\n",
              "    </tr>\n",
              "  </thead>\n",
              "  <tbody>\n",
              "    <tr>\n",
              "      <th>0</th>\n",
              "      <td>politics</td>\n",
              "      <td>[สุรยุทธ์, ยัน, ปฏิเสธ, ลงนาม,  , MOU,  , กับ,...</td>\n",
              "      <td>0</td>\n",
              "    </tr>\n",
              "    <tr>\n",
              "      <th>1</th>\n",
              "      <td>C&amp;A</td>\n",
              "      <td>[บุก, ยึด, ไม้, เถื่อน, อดีต, ส.ส., บุรีรัมย์,...</td>\n",
              "      <td>1</td>\n",
              "    </tr>\n",
              "    <tr>\n",
              "      <th>2</th>\n",
              "      <td>C&amp;A</td>\n",
              "      <td>[ผกก., แจง, \", สุ, ไฮ, มี, \", ที่, ถูก, วิสามั...</td>\n",
              "      <td>1</td>\n",
              "    </tr>\n",
              "    <tr>\n",
              "      <th>3</th>\n",
              "      <td>general</td>\n",
              "      <td>[เฒ่า, วัย,  , 72,  , ร้อง, ถูก, รัฐ, ยึด, ที่...</td>\n",
              "      <td>2</td>\n",
              "    </tr>\n",
              "    <tr>\n",
              "      <th>4</th>\n",
              "      <td>C&amp;A</td>\n",
              "      <td>[เมีย, สาวใหญ่, สุด, แค้น, ผัว, นอกใจ, มอมเหล้...</td>\n",
              "      <td>1</td>\n",
              "    </tr>\n",
              "    <tr>\n",
              "      <th>...</th>\n",
              "      <td>...</td>\n",
              "      <td>...</td>\n",
              "      <td>...</td>\n",
              "    </tr>\n",
              "    <tr>\n",
              "      <th>3789</th>\n",
              "      <td>politics</td>\n",
              "      <td>[\", เพื่อ, ไทย, \", ชำแหละ,  , 6,  , เดือน, รัฐ...</td>\n",
              "      <td>0</td>\n",
              "    </tr>\n",
              "    <tr>\n",
              "      <th>3790</th>\n",
              "      <td>politics</td>\n",
              "      <td>[พันธมิตร, เล็ง, แจ้ง, จับกลุ่ม, เสื้อ, แดง,  ...</td>\n",
              "      <td>0</td>\n",
              "    </tr>\n",
              "    <tr>\n",
              "      <th>3791</th>\n",
              "      <td>politics</td>\n",
              "      <td>[ส.ว., ผ่าน, ความ, เห็นชอบ, พ.ร.ก., กู้,  , 4,...</td>\n",
              "      <td>0</td>\n",
              "    </tr>\n",
              "    <tr>\n",
              "      <th>3792</th>\n",
              "      <td>politics</td>\n",
              "      <td>[นายกฯ, บี้, ผบ., ตร., ลา, ลง, ใต้, ต่อ, นายกฯ...</td>\n",
              "      <td>0</td>\n",
              "    </tr>\n",
              "    <tr>\n",
              "      <th>3793</th>\n",
              "      <td>politics</td>\n",
              "      <td>[', ฎีกา, เสื้อ, แดง, ', อาจ, แห้ว, เหตุ, ขัด,...</td>\n",
              "      <td>0</td>\n",
              "    </tr>\n",
              "  </tbody>\n",
              "</table>\n",
              "<p>3794 rows × 3 columns</p>\n",
              "</div>\n",
              "      <button class=\"colab-df-convert\" onclick=\"convertToInteractive('df-bb60b953-b8cf-447e-9340-55e84bd519e7')\"\n",
              "              title=\"Convert this dataframe to an interactive table.\"\n",
              "              style=\"display:none;\">\n",
              "        \n",
              "  <svg xmlns=\"http://www.w3.org/2000/svg\" height=\"24px\"viewBox=\"0 0 24 24\"\n",
              "       width=\"24px\">\n",
              "    <path d=\"M0 0h24v24H0V0z\" fill=\"none\"/>\n",
              "    <path d=\"M18.56 5.44l.94 2.06.94-2.06 2.06-.94-2.06-.94-.94-2.06-.94 2.06-2.06.94zm-11 1L8.5 8.5l.94-2.06 2.06-.94-2.06-.94L8.5 2.5l-.94 2.06-2.06.94zm10 10l.94 2.06.94-2.06 2.06-.94-2.06-.94-.94-2.06-.94 2.06-2.06.94z\"/><path d=\"M17.41 7.96l-1.37-1.37c-.4-.4-.92-.59-1.43-.59-.52 0-1.04.2-1.43.59L10.3 9.45l-7.72 7.72c-.78.78-.78 2.05 0 2.83L4 21.41c.39.39.9.59 1.41.59.51 0 1.02-.2 1.41-.59l7.78-7.78 2.81-2.81c.8-.78.8-2.07 0-2.86zM5.41 20L4 18.59l7.72-7.72 1.47 1.35L5.41 20z\"/>\n",
              "  </svg>\n",
              "      </button>\n",
              "      \n",
              "  <style>\n",
              "    .colab-df-container {\n",
              "      display:flex;\n",
              "      flex-wrap:wrap;\n",
              "      gap: 12px;\n",
              "    }\n",
              "\n",
              "    .colab-df-convert {\n",
              "      background-color: #E8F0FE;\n",
              "      border: none;\n",
              "      border-radius: 50%;\n",
              "      cursor: pointer;\n",
              "      display: none;\n",
              "      fill: #1967D2;\n",
              "      height: 32px;\n",
              "      padding: 0 0 0 0;\n",
              "      width: 32px;\n",
              "    }\n",
              "\n",
              "    .colab-df-convert:hover {\n",
              "      background-color: #E2EBFA;\n",
              "      box-shadow: 0px 1px 2px rgba(60, 64, 67, 0.3), 0px 1px 3px 1px rgba(60, 64, 67, 0.15);\n",
              "      fill: #174EA6;\n",
              "    }\n",
              "\n",
              "    [theme=dark] .colab-df-convert {\n",
              "      background-color: #3B4455;\n",
              "      fill: #D2E3FC;\n",
              "    }\n",
              "\n",
              "    [theme=dark] .colab-df-convert:hover {\n",
              "      background-color: #434B5C;\n",
              "      box-shadow: 0px 1px 3px 1px rgba(0, 0, 0, 0.15);\n",
              "      filter: drop-shadow(0px 1px 2px rgba(0, 0, 0, 0.3));\n",
              "      fill: #FFFFFF;\n",
              "    }\n",
              "  </style>\n",
              "\n",
              "      <script>\n",
              "        const buttonEl =\n",
              "          document.querySelector('#df-bb60b953-b8cf-447e-9340-55e84bd519e7 button.colab-df-convert');\n",
              "        buttonEl.style.display =\n",
              "          google.colab.kernel.accessAllowed ? 'block' : 'none';\n",
              "\n",
              "        async function convertToInteractive(key) {\n",
              "          const element = document.querySelector('#df-bb60b953-b8cf-447e-9340-55e84bd519e7');\n",
              "          const dataTable =\n",
              "            await google.colab.kernel.invokeFunction('convertToInteractive',\n",
              "                                                     [key], {});\n",
              "          if (!dataTable) return;\n",
              "\n",
              "          const docLinkHtml = 'Like what you see? Visit the ' +\n",
              "            '<a target=\"_blank\" href=https://colab.research.google.com/notebooks/data_table.ipynb>data table notebook</a>'\n",
              "            + ' to learn more about interactive tables.';\n",
              "          element.innerHTML = '';\n",
              "          dataTable['output_type'] = 'display_data';\n",
              "          await google.colab.output.renderOutput(dataTable, element);\n",
              "          const docLink = document.createElement('div');\n",
              "          docLink.innerHTML = docLinkHtml;\n",
              "          element.appendChild(docLink);\n",
              "        }\n",
              "      </script>\n",
              "    </div>\n",
              "  </div>\n",
              "  "
            ],
            "text/plain": [
              "      category                                              token  label\n",
              "0     politics  [สุรยุทธ์, ยัน, ปฏิเสธ, ลงนาม,  , MOU,  , กับ,...      0\n",
              "1          C&A  [บุก, ยึด, ไม้, เถื่อน, อดีต, ส.ส., บุรีรัมย์,...      1\n",
              "2          C&A  [ผกก., แจง, \", สุ, ไฮ, มี, \", ที่, ถูก, วิสามั...      1\n",
              "3      general  [เฒ่า, วัย,  , 72,  , ร้อง, ถูก, รัฐ, ยึด, ที่...      2\n",
              "4          C&A  [เมีย, สาวใหญ่, สุด, แค้น, ผัว, นอกใจ, มอมเหล้...      1\n",
              "...        ...                                                ...    ...\n",
              "3789  politics  [\", เพื่อ, ไทย, \", ชำแหละ,  , 6,  , เดือน, รัฐ...      0\n",
              "3790  politics  [พันธมิตร, เล็ง, แจ้ง, จับกลุ่ม, เสื้อ, แดง,  ...      0\n",
              "3791  politics  [ส.ว., ผ่าน, ความ, เห็นชอบ, พ.ร.ก., กู้,  , 4,...      0\n",
              "3792  politics  [นายกฯ, บี้, ผบ., ตร., ลา, ลง, ใต้, ต่อ, นายกฯ...      0\n",
              "3793  politics  [', ฎีกา, เสื้อ, แดง, ', อาจ, แห้ว, เหตุ, ขัด,...      0\n",
              "\n",
              "[3794 rows x 3 columns]"
            ]
          },
          "execution_count": 10,
          "metadata": {},
          "output_type": "execute_result"
        }
      ],
      "source": [
        "train"
      ],
      "id": "NbgEgEQ5f0At"
    },
    {
      "cell_type": "code",
      "execution_count": null,
      "metadata": {
        "colab": {
          "background_save": true,
          "base_uri": "https://localhost:8080/",
          "height": 419
        },
        "id": "AdeduHP_ylTP",
        "outputId": "7f3699f3-71d6-48ac-adce-0adb7adee7ff"
      },
      "outputs": [
        {
          "data": {
            "text/html": [
              "\n",
              "  <div id=\"df-132d592d-568a-45da-b3a4-de63c57e71ad\">\n",
              "    <div class=\"colab-df-container\">\n",
              "      <div>\n",
              "<style scoped>\n",
              "    .dataframe tbody tr th:only-of-type {\n",
              "        vertical-align: middle;\n",
              "    }\n",
              "\n",
              "    .dataframe tbody tr th {\n",
              "        vertical-align: top;\n",
              "    }\n",
              "\n",
              "    .dataframe thead th {\n",
              "        text-align: right;\n",
              "    }\n",
              "</style>\n",
              "<table border=\"1\" class=\"dataframe\">\n",
              "  <thead>\n",
              "    <tr style=\"text-align: right;\">\n",
              "      <th></th>\n",
              "      <th>category</th>\n",
              "      <th>token</th>\n",
              "      <th>label</th>\n",
              "    </tr>\n",
              "  </thead>\n",
              "  <tbody>\n",
              "    <tr>\n",
              "      <th>0</th>\n",
              "      <td>disaster</td>\n",
              "      <td>[จีน, -, อินเดีย, เสี่ยง, สูญเสีย, จาก, ภัยธรร...</td>\n",
              "      <td>10</td>\n",
              "    </tr>\n",
              "    <tr>\n",
              "      <th>1</th>\n",
              "      <td>disaster</td>\n",
              "      <td>[เกิดเหตุ, พายุ, พัด, ถล่ม, จีน,  , ทำให้, มี,...</td>\n",
              "      <td>10</td>\n",
              "    </tr>\n",
              "    <tr>\n",
              "      <th>2</th>\n",
              "      <td>disaster</td>\n",
              "      <td>[เชื่อ, น, จีน,  , 40, %,  , เสี่ยง, ถล่ม,  , ...</td>\n",
              "      <td>10</td>\n",
              "    </tr>\n",
              "    <tr>\n",
              "      <th>3</th>\n",
              "      <td>culture</td>\n",
              "      <td>[ร่าง, ของ, หลวงปู่, ทิม,  , เกจิ, ชื่อดัง, แห...</td>\n",
              "      <td>4</td>\n",
              "    </tr>\n",
              "    <tr>\n",
              "      <th>4</th>\n",
              "      <td>culture</td>\n",
              "      <td>[ก., เกษตร, ฯ,  , เตรียม, จัดงาน, ประกวด, โครง...</td>\n",
              "      <td>4</td>\n",
              "    </tr>\n",
              "    <tr>\n",
              "      <th>...</th>\n",
              "      <td>...</td>\n",
              "      <td>...</td>\n",
              "      <td>...</td>\n",
              "    </tr>\n",
              "    <tr>\n",
              "      <th>478</th>\n",
              "      <td>politics</td>\n",
              "      <td>[ปทีป, -, จุมพล,  , เบียด, กัน, สูสี, เก้าอี้,...</td>\n",
              "      <td>0</td>\n",
              "    </tr>\n",
              "    <tr>\n",
              "      <th>479</th>\n",
              "      <td>politics</td>\n",
              "      <td>[\", มาร์ค, \", เร่ง, กฤษฎีกา,  , ตรวจแก้, ร่าง,...</td>\n",
              "      <td>0</td>\n",
              "    </tr>\n",
              "    <tr>\n",
              "      <th>480</th>\n",
              "      <td>politics</td>\n",
              "      <td>[พัชร, วาท, ยอม, ให้การ, ปปช.,  , ปาก, สุดท้าย...</td>\n",
              "      <td>0</td>\n",
              "    </tr>\n",
              "    <tr>\n",
              "      <th>481</th>\n",
              "      <td>politics</td>\n",
              "      <td>[มาร์ค, โยน, เทือก, ดู, ฎีกา,  , ซัด, ไอ้, ตู่...</td>\n",
              "      <td>0</td>\n",
              "    </tr>\n",
              "    <tr>\n",
              "      <th>482</th>\n",
              "      <td>politics</td>\n",
              "      <td>[\", เทือก, \", เสียงแข็ง, ไม่, ฮั้ว, \", เนวิน, ...</td>\n",
              "      <td>0</td>\n",
              "    </tr>\n",
              "  </tbody>\n",
              "</table>\n",
              "<p>483 rows × 3 columns</p>\n",
              "</div>\n",
              "      <button class=\"colab-df-convert\" onclick=\"convertToInteractive('df-132d592d-568a-45da-b3a4-de63c57e71ad')\"\n",
              "              title=\"Convert this dataframe to an interactive table.\"\n",
              "              style=\"display:none;\">\n",
              "        \n",
              "  <svg xmlns=\"http://www.w3.org/2000/svg\" height=\"24px\"viewBox=\"0 0 24 24\"\n",
              "       width=\"24px\">\n",
              "    <path d=\"M0 0h24v24H0V0z\" fill=\"none\"/>\n",
              "    <path d=\"M18.56 5.44l.94 2.06.94-2.06 2.06-.94-2.06-.94-.94-2.06-.94 2.06-2.06.94zm-11 1L8.5 8.5l.94-2.06 2.06-.94-2.06-.94L8.5 2.5l-.94 2.06-2.06.94zm10 10l.94 2.06.94-2.06 2.06-.94-2.06-.94-.94-2.06-.94 2.06-2.06.94z\"/><path d=\"M17.41 7.96l-1.37-1.37c-.4-.4-.92-.59-1.43-.59-.52 0-1.04.2-1.43.59L10.3 9.45l-7.72 7.72c-.78.78-.78 2.05 0 2.83L4 21.41c.39.39.9.59 1.41.59.51 0 1.02-.2 1.41-.59l7.78-7.78 2.81-2.81c.8-.78.8-2.07 0-2.86zM5.41 20L4 18.59l7.72-7.72 1.47 1.35L5.41 20z\"/>\n",
              "  </svg>\n",
              "      </button>\n",
              "      \n",
              "  <style>\n",
              "    .colab-df-container {\n",
              "      display:flex;\n",
              "      flex-wrap:wrap;\n",
              "      gap: 12px;\n",
              "    }\n",
              "\n",
              "    .colab-df-convert {\n",
              "      background-color: #E8F0FE;\n",
              "      border: none;\n",
              "      border-radius: 50%;\n",
              "      cursor: pointer;\n",
              "      display: none;\n",
              "      fill: #1967D2;\n",
              "      height: 32px;\n",
              "      padding: 0 0 0 0;\n",
              "      width: 32px;\n",
              "    }\n",
              "\n",
              "    .colab-df-convert:hover {\n",
              "      background-color: #E2EBFA;\n",
              "      box-shadow: 0px 1px 2px rgba(60, 64, 67, 0.3), 0px 1px 3px 1px rgba(60, 64, 67, 0.15);\n",
              "      fill: #174EA6;\n",
              "    }\n",
              "\n",
              "    [theme=dark] .colab-df-convert {\n",
              "      background-color: #3B4455;\n",
              "      fill: #D2E3FC;\n",
              "    }\n",
              "\n",
              "    [theme=dark] .colab-df-convert:hover {\n",
              "      background-color: #434B5C;\n",
              "      box-shadow: 0px 1px 3px 1px rgba(0, 0, 0, 0.15);\n",
              "      filter: drop-shadow(0px 1px 2px rgba(0, 0, 0, 0.3));\n",
              "      fill: #FFFFFF;\n",
              "    }\n",
              "  </style>\n",
              "\n",
              "      <script>\n",
              "        const buttonEl =\n",
              "          document.querySelector('#df-132d592d-568a-45da-b3a4-de63c57e71ad button.colab-df-convert');\n",
              "        buttonEl.style.display =\n",
              "          google.colab.kernel.accessAllowed ? 'block' : 'none';\n",
              "\n",
              "        async function convertToInteractive(key) {\n",
              "          const element = document.querySelector('#df-132d592d-568a-45da-b3a4-de63c57e71ad');\n",
              "          const dataTable =\n",
              "            await google.colab.kernel.invokeFunction('convertToInteractive',\n",
              "                                                     [key], {});\n",
              "          if (!dataTable) return;\n",
              "\n",
              "          const docLinkHtml = 'Like what you see? Visit the ' +\n",
              "            '<a target=\"_blank\" href=https://colab.research.google.com/notebooks/data_table.ipynb>data table notebook</a>'\n",
              "            + ' to learn more about interactive tables.';\n",
              "          element.innerHTML = '';\n",
              "          dataTable['output_type'] = 'display_data';\n",
              "          await google.colab.output.renderOutput(dataTable, element);\n",
              "          const docLink = document.createElement('div');\n",
              "          docLink.innerHTML = docLinkHtml;\n",
              "          element.appendChild(docLink);\n",
              "        }\n",
              "      </script>\n",
              "    </div>\n",
              "  </div>\n",
              "  "
            ],
            "text/plain": [
              "     category                                              token  label\n",
              "0    disaster  [จีน, -, อินเดีย, เสี่ยง, สูญเสีย, จาก, ภัยธรร...     10\n",
              "1    disaster  [เกิดเหตุ, พายุ, พัด, ถล่ม, จีน,  , ทำให้, มี,...     10\n",
              "2    disaster  [เชื่อ, น, จีน,  , 40, %,  , เสี่ยง, ถล่ม,  , ...     10\n",
              "3     culture  [ร่าง, ของ, หลวงปู่, ทิม,  , เกจิ, ชื่อดัง, แห...      4\n",
              "4     culture  [ก., เกษตร, ฯ,  , เตรียม, จัดงาน, ประกวด, โครง...      4\n",
              "..        ...                                                ...    ...\n",
              "478  politics  [ปทีป, -, จุมพล,  , เบียด, กัน, สูสี, เก้าอี้,...      0\n",
              "479  politics  [\", มาร์ค, \", เร่ง, กฤษฎีกา,  , ตรวจแก้, ร่าง,...      0\n",
              "480  politics  [พัชร, วาท, ยอม, ให้การ, ปปช.,  , ปาก, สุดท้าย...      0\n",
              "481  politics  [มาร์ค, โยน, เทือก, ดู, ฎีกา,  , ซัด, ไอ้, ตู่...      0\n",
              "482  politics  [\", เทือก, \", เสียงแข็ง, ไม่, ฮั้ว, \", เนวิน, ...      0\n",
              "\n",
              "[483 rows x 3 columns]"
            ]
          },
          "execution_count": 11,
          "metadata": {},
          "output_type": "execute_result"
        }
      ],
      "source": [
        "test"
      ],
      "id": "AdeduHP_ylTP"
    },
    {
      "cell_type": "code",
      "execution_count": null,
      "metadata": {
        "colab": {
          "background_save": true,
          "base_uri": "https://localhost:8080/"
        },
        "id": "5BWZQX1PiDJB",
        "outputId": "dc03a788-667a-4c33-fcbf-7032846ca071"
      },
      "outputs": [
        {
          "data": {
            "text/plain": [
              "array([[11876,  3172,  1001, ...,     0,     0,     0],\n",
              "       [ 2671,   936,   269, ...,     0,     0,     0],\n",
              "       [ 7567,  6563,   409, ..., 50014,  6084,   121],\n",
              "       ...,\n",
              "       [ 9549,   230,    13, ...,    15,   947,    78],\n",
              "       [36804,  8649,  9504, ..., 19131,     0,  1129],\n",
              "       [ 2813,  2708,   732, ...,     0,     0,     0]], dtype=int32)"
            ]
          },
          "execution_count": 12,
          "metadata": {},
          "output_type": "execute_result"
        }
      ],
      "source": [
        "train_x"
      ],
      "id": "5BWZQX1PiDJB"
    },
    {
      "cell_type": "code",
      "execution_count": null,
      "metadata": {
        "colab": {
          "background_save": true,
          "base_uri": "https://localhost:8080/"
        },
        "id": "31Gqz8CnmKVM",
        "outputId": "b316a0e0-2179-4457-f288-29fdf03c2f43"
      },
      "outputs": [
        {
          "data": {
            "text/plain": [
              "array([[1., 0., 0., ..., 0., 0., 0.],\n",
              "       [0., 1., 0., ..., 0., 0., 0.],\n",
              "       [0., 1., 0., ..., 0., 0., 0.],\n",
              "       ...,\n",
              "       [1., 0., 0., ..., 0., 0., 0.],\n",
              "       [1., 0., 0., ..., 0., 0., 0.],\n",
              "       [1., 0., 0., ..., 0., 0., 0.]], dtype=float32)"
            ]
          },
          "execution_count": 13,
          "metadata": {},
          "output_type": "execute_result"
        }
      ],
      "source": [
        "train_y"
      ],
      "id": "31Gqz8CnmKVM"
    },
    {
      "cell_type": "code",
      "execution_count": null,
      "metadata": {
        "colab": {
          "background_save": true,
          "base_uri": "https://localhost:8080/"
        },
        "id": "hZdNybUt1qfP",
        "outputId": "6c4d953d-c186-4551-e26b-5ceba78439dd"
      },
      "outputs": [
        {
          "data": {
            "text/plain": [
              "array([[ 5404, 35469,  2041, ...,     0,     0,    10],\n",
              "       [12314,     0,   822, ...,  1804,     0,    14],\n",
              "       [12314,     0,   822, ..., 13332,  5503,    29],\n",
              "       ...,\n",
              "       [15264,    56,   674, ...,     0,     0,     0],\n",
              "       [  409, 11764,   409, ...,    12, 19131,     6],\n",
              "       [ 3939,   477,  1120, ...,     0,     0,    36]], dtype=int32)"
            ]
          },
          "execution_count": 14,
          "metadata": {},
          "output_type": "execute_result"
        }
      ],
      "source": [
        "dev_x"
      ],
      "id": "hZdNybUt1qfP"
    },
    {
      "cell_type": "code",
      "execution_count": null,
      "metadata": {
        "colab": {
          "background_save": true,
          "base_uri": "https://localhost:8080/"
        },
        "id": "AsTsFbgboSZy",
        "outputId": "4a2f4566-3f52-42bd-d11a-366f00dbb512"
      },
      "outputs": [
        {
          "data": {
            "text/plain": [
              "array([[  342,   100,  1497, ...,     0,     0,     0],\n",
              "       [    0,  2963,  1853, ...,     0,     0,     0],\n",
              "       [  318,  2659,   342, ...,     0,     0,     0],\n",
              "       ...,\n",
              "       [    0, 11533,   276, ...,    32,     0,    16],\n",
              "       [ 4255,  2077,  5147, ...,    43,   567,     6],\n",
              "       [  409,  5147,   409, ...,   297, 19418,     0]], dtype=int32)"
            ]
          },
          "execution_count": 15,
          "metadata": {},
          "output_type": "execute_result"
        }
      ],
      "source": [
        "test_x"
      ],
      "id": "AsTsFbgboSZy"
    },
    {
      "cell_type": "code",
      "execution_count": null,
      "metadata": {
        "colab": {
          "background_save": true
        },
        "id": "fd77a06a-3bba-4356-8067-cb874191cdc1"
      },
      "outputs": [],
      "source": [
        "def make_cnn_model(print_model=True):\n",
        "    filters = 250 #number of filters in your Convnet\n",
        "    kernel_size = 3 # a window size of 3 tokens\n",
        "    hidden_dims = 250 #number of neurons at the normal feedforward NN\n",
        "\n",
        "    cnn_model = Sequential()\n",
        "    cnn_model.add(Embedding(input_dim=vocab_size+1,\n",
        "                        input_length=max_len,\n",
        "                        output_dim=vector_dim, \n",
        "                        weights=[embedding_matrix], \n",
        "                        #mask_zero=True,\n",
        "                        trainable=False))\n",
        "\n",
        "    cnn_model.add(Conv1D(filters,\n",
        "                        kernel_size,\n",
        "                        input_shape=(max_len ,vector_dim),\n",
        "                        #padding='valid',\n",
        "                        activation='relu',\n",
        "                        strides=1,))\n",
        "    cnn_model.add(GlobalMaxPooling1D())\n",
        "    #GlobalMaxPooling1D(n) default = 2.\n",
        "    cnn_model.add(Dense(hidden_dims, activation='relu'))\n",
        "    cnn_model.add(Dropout(0.4))\n",
        "    cnn_model.add(Dense(15, activation='softmax'))\n",
        "    opt = keras.optimizers.Adam(learning_rate=0.005)\n",
        "    # compile model\n",
        "    cnn_model.compile(loss=\"categorical_crossentropy\", metrics=[\"accuracy\"],optimizer=opt)\n",
        "    return cnn_model"
      ],
      "id": "fd77a06a-3bba-4356-8067-cb874191cdc1"
    },
    {
      "cell_type": "code",
      "execution_count": null,
      "metadata": {
        "colab": {
          "background_save": true
        },
        "id": "EMSh89OtZj9P"
      },
      "outputs": [],
      "source": [
        "cnn_model = make_cnn_model()"
      ],
      "id": "EMSh89OtZj9P"
    },
    {
      "cell_type": "code",
      "execution_count": null,
      "metadata": {
        "colab": {
          "base_uri": "https://localhost:8080/"
        },
        "id": "c83f276a-ff0c-48cb-9cbb-b00dadf2eef5",
        "outputId": "95e446d7-13a1-4804-c7df-81cf87467cb2"
      },
      "outputs": [
        {
          "name": "stdout",
          "output_type": "stream",
          "text": [
            "Epoch 1/30\n",
            "30/30 [==============================] - 1s 25ms/step - loss: 0.5710 - accuracy: 0.8021 - val_loss: 3.1426 - val_accuracy: 0.7700\n",
            "Epoch 2/30\n",
            "30/30 [==============================] - 1s 21ms/step - loss: 0.6355 - accuracy: 0.7762 - val_loss: 3.0652 - val_accuracy: 0.7468\n",
            "Epoch 3/30\n",
            "30/30 [==============================] - 1s 21ms/step - loss: 0.6396 - accuracy: 0.7770 - val_loss: 2.9479 - val_accuracy: 0.7679\n",
            "Epoch 4/30\n",
            "30/30 [==============================] - 1s 22ms/step - loss: 0.6611 - accuracy: 0.7725 - val_loss: 3.1621 - val_accuracy: 0.7426\n",
            "Epoch 5/30\n",
            "30/30 [==============================] - 1s 21ms/step - loss: 0.6622 - accuracy: 0.7733 - val_loss: 2.8434 - val_accuracy: 0.7532\n",
            "Epoch 6/30\n",
            "30/30 [==============================] - 1s 21ms/step - loss: 0.6825 - accuracy: 0.7688 - val_loss: 2.1759 - val_accuracy: 0.7764\n",
            "Epoch 7/30\n",
            "30/30 [==============================] - 1s 21ms/step - loss: 0.7320 - accuracy: 0.7551 - val_loss: 2.2328 - val_accuracy: 0.7553\n",
            "Epoch 8/30\n",
            "30/30 [==============================] - 1s 22ms/step - loss: 0.7662 - accuracy: 0.7507 - val_loss: 3.0932 - val_accuracy: 0.7658\n",
            "Epoch 9/30\n",
            "30/30 [==============================] - 1s 21ms/step - loss: 0.7557 - accuracy: 0.7522 - val_loss: 2.6928 - val_accuracy: 0.7595\n",
            "Epoch 10/30\n",
            "30/30 [==============================] - 1s 22ms/step - loss: 0.7326 - accuracy: 0.7475 - val_loss: 2.3952 - val_accuracy: 0.7764\n",
            "Epoch 11/30\n",
            "30/30 [==============================] - 1s 21ms/step - loss: 0.6824 - accuracy: 0.7667 - val_loss: 3.3666 - val_accuracy: 0.7447\n",
            "Epoch 12/30\n",
            "30/30 [==============================] - 1s 21ms/step - loss: 0.7062 - accuracy: 0.7609 - val_loss: 3.1194 - val_accuracy: 0.7532\n",
            "Epoch 13/30\n",
            "30/30 [==============================] - 1s 21ms/step - loss: 0.7891 - accuracy: 0.7388 - val_loss: 2.0832 - val_accuracy: 0.7679\n",
            "Epoch 14/30\n",
            "30/30 [==============================] - 1s 22ms/step - loss: 0.7147 - accuracy: 0.7591 - val_loss: 2.3542 - val_accuracy: 0.7384\n",
            "Epoch 15/30\n",
            "30/30 [==============================] - 1s 22ms/step - loss: 0.6632 - accuracy: 0.7754 - val_loss: 2.5452 - val_accuracy: 0.7616\n",
            "Epoch 16/30\n",
            "30/30 [==============================] - 1s 21ms/step - loss: 0.6690 - accuracy: 0.7720 - val_loss: 2.6646 - val_accuracy: 0.7637\n",
            "Epoch 17/30\n",
            "30/30 [==============================] - 1s 21ms/step - loss: 0.6493 - accuracy: 0.7794 - val_loss: 2.9965 - val_accuracy: 0.7764\n",
            "Epoch 18/30\n",
            "30/30 [==============================] - 1s 21ms/step - loss: 0.6427 - accuracy: 0.7768 - val_loss: 2.4778 - val_accuracy: 0.7637\n",
            "Epoch 19/30\n",
            "30/30 [==============================] - 1s 21ms/step - loss: 0.6496 - accuracy: 0.7760 - val_loss: 2.8278 - val_accuracy: 0.7511\n",
            "Epoch 20/30\n",
            "30/30 [==============================] - 1s 21ms/step - loss: 0.7093 - accuracy: 0.7588 - val_loss: 3.0553 - val_accuracy: 0.7447\n",
            "Epoch 21/30\n",
            "30/30 [==============================] - 1s 22ms/step - loss: 0.6924 - accuracy: 0.7599 - val_loss: 2.1950 - val_accuracy: 0.7700\n",
            "Epoch 22/30\n",
            "30/30 [==============================] - 1s 21ms/step - loss: 0.6561 - accuracy: 0.7749 - val_loss: 3.2698 - val_accuracy: 0.7700\n",
            "Epoch 23/30\n",
            "30/30 [==============================] - 1s 21ms/step - loss: 0.6605 - accuracy: 0.7725 - val_loss: 3.1660 - val_accuracy: 0.7679\n",
            "Epoch 24/30\n",
            "30/30 [==============================] - 1s 21ms/step - loss: 0.6375 - accuracy: 0.7768 - val_loss: 3.1772 - val_accuracy: 0.7764\n",
            "Epoch 25/30\n",
            "30/30 [==============================] - 1s 21ms/step - loss: 0.6269 - accuracy: 0.7775 - val_loss: 1.9421 - val_accuracy: 0.7426\n",
            "Epoch 26/30\n",
            "30/30 [==============================] - 1s 21ms/step - loss: 0.7421 - accuracy: 0.7478 - val_loss: 2.6365 - val_accuracy: 0.7806\n",
            "Epoch 27/30\n",
            "30/30 [==============================] - 1s 21ms/step - loss: 0.6590 - accuracy: 0.7807 - val_loss: 2.4005 - val_accuracy: 0.7764\n",
            "Epoch 28/30\n",
            "30/30 [==============================] - 1s 21ms/step - loss: 0.7357 - accuracy: 0.7504 - val_loss: 2.8363 - val_accuracy: 0.7658\n",
            "Epoch 29/30\n",
            "30/30 [==============================] - 1s 21ms/step - loss: 0.7566 - accuracy: 0.7530 - val_loss: 2.4696 - val_accuracy: 0.7658\n",
            "Epoch 30/30\n",
            "30/30 [==============================] - 1s 21ms/step - loss: 0.6397 - accuracy: 0.7723 - val_loss: 3.0163 - val_accuracy: 0.7785\n"
          ]
        }
      ],
      "source": [
        "# train\n",
        "cnn_history = cnn_model.fit(train_x, train_y, batch_size=128, epochs=30, validation_data=(dev_x, dev_y))"
      ],
      "id": "c83f276a-ff0c-48cb-9cbb-b00dadf2eef5"
    },
    {
      "cell_type": "code",
      "execution_count": null,
      "metadata": {
        "colab": {
          "base_uri": "https://localhost:8080/"
        },
        "id": "hQ3jJ21cUhK8",
        "outputId": "0f826369-a68d-46cc-f2d0-61b257238004"
      },
      "outputs": [
        {
          "name": "stdout",
          "output_type": "stream",
          "text": [
            "              precision    recall  f1-score   support\n",
            "\n",
            "           0       0.85      0.97      0.90       147\n",
            "           1       0.72      0.79      0.75        70\n",
            "           2       0.00      0.00      0.00         8\n",
            "           3       0.77      0.73      0.75        60\n",
            "           4       0.00      0.00      0.00         4\n",
            "           5       0.41      0.44      0.43        27\n",
            "           6       0.64      0.89      0.75        28\n",
            "           7       0.00      0.00      0.00         4\n",
            "           8       0.00      0.00      0.00         4\n",
            "           9       0.62      0.80      0.70        10\n",
            "          10       0.00      0.00      0.00         5\n",
            "          11       0.85      0.87      0.86        53\n",
            "          12       0.00      0.00      0.00         5\n",
            "          13       0.97      0.86      0.91        43\n",
            "          14       0.00      0.00      0.00         6\n",
            "\n",
            "    accuracy                           0.78       474\n",
            "   macro avg       0.39      0.42      0.40       474\n",
            "weighted avg       0.72      0.78      0.75       474\n",
            "\n"
          ]
        },
        {
          "name": "stderr",
          "output_type": "stream",
          "text": [
            "/usr/local/lib/python3.7/dist-packages/sklearn/metrics/_classification.py:1318: UndefinedMetricWarning: Precision and F-score are ill-defined and being set to 0.0 in labels with no predicted samples. Use `zero_division` parameter to control this behavior.\n",
            "  _warn_prf(average, modifier, msg_start, len(result))\n",
            "/usr/local/lib/python3.7/dist-packages/sklearn/metrics/_classification.py:1318: UndefinedMetricWarning: Precision and F-score are ill-defined and being set to 0.0 in labels with no predicted samples. Use `zero_division` parameter to control this behavior.\n",
            "  _warn_prf(average, modifier, msg_start, len(result))\n",
            "/usr/local/lib/python3.7/dist-packages/sklearn/metrics/_classification.py:1318: UndefinedMetricWarning: Precision and F-score are ill-defined and being set to 0.0 in labels with no predicted samples. Use `zero_division` parameter to control this behavior.\n",
            "  _warn_prf(average, modifier, msg_start, len(result))\n"
          ]
        }
      ],
      "source": [
        "prediction = [np.argmax(x) for x in cnn_model.predict(dev_x)]\n",
        "print(classification_report(dev['label'], prediction))"
      ],
      "id": "hQ3jJ21cUhK8"
    },
    {
      "cell_type": "code",
      "execution_count": null,
      "metadata": {
        "colab": {
          "base_uri": "https://localhost:8080/"
        },
        "id": "eMoGeUcgy5O-",
        "outputId": "eecf6fe6-eb1a-4825-adc4-a15ed4eb9de0"
      },
      "outputs": [
        {
          "name": "stdout",
          "output_type": "stream",
          "text": [
            "              precision    recall  f1-score   support\n",
            "\n",
            "           0       0.73      0.97      0.83       148\n",
            "           1       0.83      0.84      0.84        70\n",
            "           2       0.00      0.00      0.00         8\n",
            "           3       0.70      0.66      0.68        61\n",
            "           4       0.00      0.00      0.00         5\n",
            "           5       0.50      0.61      0.55        28\n",
            "           6       0.71      0.73      0.72        30\n",
            "           7       0.00      0.00      0.00         5\n",
            "           8       0.67      0.50      0.57         4\n",
            "           9       0.00      0.00      0.00        10\n",
            "          10       0.00      0.00      0.00         6\n",
            "          11       0.86      0.83      0.85        53\n",
            "          12       1.00      0.17      0.29         6\n",
            "          13       1.00      0.79      0.88        43\n",
            "          14       1.00      0.33      0.50         6\n",
            "\n",
            "    accuracy                           0.75       483\n",
            "   macro avg       0.53      0.43      0.45       483\n",
            "weighted avg       0.72      0.75      0.72       483\n",
            "\n"
          ]
        },
        {
          "name": "stderr",
          "output_type": "stream",
          "text": [
            "/usr/local/lib/python3.7/dist-packages/sklearn/metrics/_classification.py:1318: UndefinedMetricWarning: Precision and F-score are ill-defined and being set to 0.0 in labels with no predicted samples. Use `zero_division` parameter to control this behavior.\n",
            "  _warn_prf(average, modifier, msg_start, len(result))\n",
            "/usr/local/lib/python3.7/dist-packages/sklearn/metrics/_classification.py:1318: UndefinedMetricWarning: Precision and F-score are ill-defined and being set to 0.0 in labels with no predicted samples. Use `zero_division` parameter to control this behavior.\n",
            "  _warn_prf(average, modifier, msg_start, len(result))\n",
            "/usr/local/lib/python3.7/dist-packages/sklearn/metrics/_classification.py:1318: UndefinedMetricWarning: Precision and F-score are ill-defined and being set to 0.0 in labels with no predicted samples. Use `zero_division` parameter to control this behavior.\n",
            "  _warn_prf(average, modifier, msg_start, len(result))\n"
          ]
        }
      ],
      "source": [
        "prediction = [np.argmax(x) for x in cnn_model.predict(test_x)]\n",
        "print(classification_report(test['label'], prediction))"
      ],
      "id": "eMoGeUcgy5O-"
    },
    {
      "cell_type": "markdown",
      "source": [
        "#Max-ent"
      ],
      "metadata": {
        "id": "LyQYwZVgitAy"
      },
      "id": "LyQYwZVgitAy"
    },
    {
      "cell_type": "code",
      "execution_count": null,
      "metadata": {
        "id": "oTLJnOlXnky9"
      },
      "outputs": [],
      "source": [
        "from sklearn.feature_extraction import DictVectorizer\n",
        "from sklearn.linear_model import LogisticRegression\n",
        "from sklearn.model_selection import train_test_split\n",
        "from sklearn.metrics import classification_report"
      ],
      "id": "oTLJnOlXnky9"
    },
    {
      "cell_type": "code",
      "execution_count": null,
      "metadata": {
        "colab": {
          "base_uri": "https://localhost:8080/"
        },
        "id": "ffDmTc5OnmcZ",
        "outputId": "e60b220b-666b-472e-f277-49d11746a520"
      },
      "outputs": [
        {
          "name": "stdout",
          "output_type": "stream",
          "text": [
            "               precision    recall  f1-score   support\n",
            "\n",
            "          C&A       0.73      0.84      0.78        61\n",
            "          STE       0.56      0.68      0.61        22\n",
            "      culture       0.00      0.00      0.00         0\n",
            "  development       0.00      0.00      0.00         1\n",
            "     disaster       0.00      0.00      0.00         0\n",
            "    economics       0.87      0.80      0.83        65\n",
            "entertainment       0.96      0.85      0.90        60\n",
            "  environment       0.25      1.00      0.40         1\n",
            "      general       0.00      0.00      0.00         0\n",
            "       health       0.90      0.90      0.90        10\n",
            "international       0.89      0.78      0.83        32\n",
            "     politics       0.99      0.82      0.90       178\n",
            "        royal       0.50      1.00      0.67         3\n",
            "       sports       0.91      0.97      0.94        40\n",
            "      weather       0.25      1.00      0.40         1\n",
            "\n",
            "     accuracy                           0.83       474\n",
            "    macro avg       0.52      0.64      0.54       474\n",
            " weighted avg       0.89      0.83      0.85       474\n",
            "\n"
          ]
        },
        {
          "name": "stderr",
          "output_type": "stream",
          "text": [
            "/usr/local/lib/python3.7/dist-packages/sklearn/linear_model/_logistic.py:818: ConvergenceWarning: lbfgs failed to converge (status=1):\n",
            "STOP: TOTAL NO. of ITERATIONS REACHED LIMIT.\n",
            "\n",
            "Increase the number of iterations (max_iter) or scale the data as shown in:\n",
            "    https://scikit-learn.org/stable/modules/preprocessing.html\n",
            "Please also refer to the documentation for alternative solver options:\n",
            "    https://scikit-learn.org/stable/modules/linear_model.html#logistic-regression\n",
            "  extra_warning_msg=_LOGISTIC_SOLVER_CONVERGENCE_MSG,\n",
            "/usr/local/lib/python3.7/dist-packages/sklearn/metrics/_classification.py:1318: UndefinedMetricWarning: Recall and F-score are ill-defined and being set to 0.0 in labels with no true samples. Use `zero_division` parameter to control this behavior.\n",
            "  _warn_prf(average, modifier, msg_start, len(result))\n",
            "/usr/local/lib/python3.7/dist-packages/sklearn/metrics/_classification.py:1318: UndefinedMetricWarning: Recall and F-score are ill-defined and being set to 0.0 in labels with no true samples. Use `zero_division` parameter to control this behavior.\n",
            "  _warn_prf(average, modifier, msg_start, len(result))\n",
            "/usr/local/lib/python3.7/dist-packages/sklearn/metrics/_classification.py:1318: UndefinedMetricWarning: Recall and F-score are ill-defined and being set to 0.0 in labels with no true samples. Use `zero_division` parameter to control this behavior.\n",
            "  _warn_prf(average, modifier, msg_start, len(result))\n"
          ]
        }
      ],
      "source": [
        "def featurize(text):\n",
        "  return {x:1 for x in text}\n",
        "\n",
        "vectorizer = DictVectorizer(sparse=True)\n",
        "train_features = train['token'].apply(featurize)\n",
        "#print(train_features)\n",
        "feature_vectors = vectorizer.fit_transform(train_features)\n",
        "\n",
        "\n",
        "#Train model\n",
        "lr_text_classifier = LogisticRegression()\n",
        "lr_text_classifier.fit(feature_vectors, train['category'])\n",
        "\n",
        "# Evaluation\n",
        "dev_features = dev['token'].apply(featurize)\n",
        "dev_feature_vectors = vectorizer.transform(dev_features)\n",
        "dev_predictions = lr_text_classifier.predict(dev_feature_vectors)\n",
        "print (classification_report(dev_predictions, dev['category']))"
      ],
      "id": "ffDmTc5OnmcZ"
    },
    {
      "cell_type": "code",
      "execution_count": null,
      "metadata": {
        "colab": {
          "base_uri": "https://localhost:8080/"
        },
        "id": "9SRrVYMw0yNW",
        "outputId": "b964dd3b-195d-42c3-f350-26879b7d63c6"
      },
      "outputs": [
        {
          "name": "stdout",
          "output_type": "stream",
          "text": [
            "               precision    recall  f1-score   support\n",
            "\n",
            "          C&A       0.94      0.87      0.90        70\n",
            "          STE       0.59      0.79      0.68        28\n",
            "      culture       1.00      0.20      0.33         5\n",
            "  development       1.00      0.33      0.50         6\n",
            "     disaster       0.00      0.00      0.00         6\n",
            "    economics       0.67      0.56      0.61        61\n",
            "entertainment       0.92      0.91      0.91        53\n",
            "  environment       0.00      0.00      0.00         5\n",
            "      general       0.00      0.00      0.00         8\n",
            "       health       0.80      0.40      0.53        10\n",
            "international       0.79      0.77      0.78        30\n",
            "     politics       0.73      0.99      0.84       148\n",
            "        royal       0.00      0.00      0.00         6\n",
            "       sports       1.00      0.88      0.94        43\n",
            "      weather       1.00      0.50      0.67         4\n",
            "\n",
            "     accuracy                           0.79       483\n",
            "    macro avg       0.63      0.48      0.51       483\n",
            " weighted avg       0.76      0.79      0.76       483\n",
            "\n"
          ]
        },
        {
          "name": "stderr",
          "output_type": "stream",
          "text": [
            "/usr/local/lib/python3.7/dist-packages/sklearn/metrics/_classification.py:1318: UndefinedMetricWarning: Precision and F-score are ill-defined and being set to 0.0 in labels with no predicted samples. Use `zero_division` parameter to control this behavior.\n",
            "  _warn_prf(average, modifier, msg_start, len(result))\n",
            "/usr/local/lib/python3.7/dist-packages/sklearn/metrics/_classification.py:1318: UndefinedMetricWarning: Precision and F-score are ill-defined and being set to 0.0 in labels with no predicted samples. Use `zero_division` parameter to control this behavior.\n",
            "  _warn_prf(average, modifier, msg_start, len(result))\n",
            "/usr/local/lib/python3.7/dist-packages/sklearn/metrics/_classification.py:1318: UndefinedMetricWarning: Precision and F-score are ill-defined and being set to 0.0 in labels with no predicted samples. Use `zero_division` parameter to control this behavior.\n",
            "  _warn_prf(average, modifier, msg_start, len(result))\n"
          ]
        }
      ],
      "source": [
        "test_features = test['token'].apply(featurize)\n",
        "test_feature_vectors = vectorizer.transform(test_features)\n",
        "test_predictions = lr_text_classifier.predict(test_feature_vectors)\n",
        "#print (classification_report(test_predictions, test['category']))\n",
        "print (classification_report(test['category'],test_predictions))"
      ],
      "id": "9SRrVYMw0yNW"
    },
    {
      "cell_type": "code",
      "execution_count": null,
      "metadata": {
        "colab": {
          "base_uri": "https://localhost:8080/"
        },
        "id": "bzy6lUexf2fj",
        "outputId": "abc7745b-c9f5-477d-909b-597e67c5c60b"
      },
      "outputs": [
        {
          "data": {
            "text/plain": [
              "category\n",
              "C&A               70\n",
              "STE               28\n",
              "culture            5\n",
              "development        6\n",
              "disaster           6\n",
              "economics         61\n",
              "entertainment     53\n",
              "environment        5\n",
              "general            8\n",
              "health            10\n",
              "international     30\n",
              "politics         148\n",
              "royal              6\n",
              "sports            43\n",
              "weather            4\n",
              "Name: category, dtype: int64"
            ]
          },
          "execution_count": 40,
          "metadata": {},
          "output_type": "execute_result"
        }
      ],
      "source": [
        "test.groupby(['category'])['category'].count()"
      ],
      "id": "bzy6lUexf2fj"
    },
    {
      "cell_type": "code",
      "execution_count": null,
      "metadata": {
        "id": "Xrp2Pzt6h3ST"
      },
      "outputs": [],
      "source": [],
      "id": "Xrp2Pzt6h3ST"
    }
  ],
  "metadata": {
    "accelerator": "GPU",
    "colab": {
      "provenance": [],
      "toc_visible": true
    },
    "kernelspec": {
      "display_name": "Python 3.7.6 64-bit ('base')",
      "language": "python",
      "name": "python37664bitbase8b8d68f032284cc1a31661d8852815cb"
    },
    "language_info": {
      "codemirror_mode": {
        "name": "ipython",
        "version": 3
      },
      "file_extension": ".py",
      "mimetype": "text/x-python",
      "name": "python",
      "nbconvert_exporter": "python",
      "pygments_lexer": "ipython3",
      "version": "3.7.6"
    }
  },
  "nbformat": 4,
  "nbformat_minor": 5
}